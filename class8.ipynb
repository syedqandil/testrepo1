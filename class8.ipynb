{
 "cells": [
  {
   "cell_type": "code",
   "execution_count": 1,
   "metadata": {},
   "outputs": [],
   "source": [
    "def fun1():\n",
    "    name=input('type your name')\n",
    "    print(name)\n",
    "    "
   ]
  },
  {
   "cell_type": "code",
   "execution_count": 2,
   "metadata": {},
   "outputs": [
    {
     "name": "stdout",
     "output_type": "stream",
     "text": [
      "type your namef\n",
      "f\n"
     ]
    }
   ],
   "source": [
    "fun1()"
   ]
  },
  {
   "cell_type": "code",
   "execution_count": 3,
   "metadata": {},
   "outputs": [],
   "source": [
    "def fun2():\n",
    "    name=input(\"type your name\")\n",
    "    gen=(\"type your gender\").lower()\n",
    "    if (gen=='male'):\n",
    "        print ('welocom mr.'+name)\n",
    "    else:\n",
    "        print ('welocom mrs.'+name)"
   ]
  },
  {
   "cell_type": "code",
   "execution_count": 9,
   "metadata": {},
   "outputs": [],
   "source": [
    "def evn():\n",
    "    listeven=[]\n",
    "    listodd=[]\n",
    "    t=True\n",
    "    while(t):\n",
    "        i=input('type any number')\n",
    "        if(i!='q'):\n",
    "            j=int(i)\n",
    "            if(j%2==0):\n",
    "                listeven.append(j)\n",
    "            else:\n",
    "                listodd.append(j)\n",
    "        else:\n",
    "            t=False\n",
    "            print(\"The list of even is \"+str(listeven)+\"\\nThe list of odd is\"+str(listodd))\n",
    "            \n",
    "    \n",
    "            \n",
    "       \n",
    "            "
   ]
  },
  {
   "cell_type": "code",
   "execution_count": 10,
   "metadata": {},
   "outputs": [
    {
     "name": "stdout",
     "output_type": "stream",
     "text": [
      "type any number3\n",
      "type any number4\n",
      "type any number6\n",
      "type any number7\n",
      "type any number8\n",
      "type any numberq\n",
      "The list of even is [4, 6, 8]\n",
      "The list of odd is[3, 7]\n"
     ]
    }
   ],
   "source": [
    "evn()"
   ]
  },
  {
   "cell_type": "code",
   "execution_count": 6,
   "metadata": {},
   "outputs": [
    {
     "name": "stdout",
     "output_type": "stream",
     "text": [
      "type any number4\n",
      "type any number7\n",
      "type any number0\n",
      "type any number1\n",
      "type any number2\n",
      "type any number5\n",
      "type any numberq\n",
      "[4, 0, 2] [7, 1, 5]\n"
     ]
    }
   ],
   "source": [
    "evn()"
   ]
  },
  {
   "cell_type": "code",
   "execution_count": 17,
   "metadata": {},
   "outputs": [
    {
     "name": "stdout",
     "output_type": "stream",
     "text": [
      "2002#9, 2009#9, 2016#9, 2023#9, 2030#9, 2037#9, 2044#9, 2051#9, 2058#9, 2065#9, 2072#9, 2079#9, 2086#9, 2093#9, 2100#9, 2107#9, 2114#9, 2121#9, 2128#9, 2135#9, 2142#9, 2149#9, 2156#9, 2163#9, 2170#9, 2177#9, 2184#9, 2191#9, 2198#9, 2205#9, 2212#9, 2219#9, 2226#9, 2233#9, 2240#9, 2247#9, 2254#9, 2261#9, 2268#9, 2275#9, 2282#9, 2289#9, 2296#9, 2303#9, 2310#9, 2317#9, 2324#9, 2331#9, 2338#9, 2345#9, 2352#9, 2359#9, 2366#9, 2373#9, 2380#9, 2387#9, 2394#9, 2401#9, 2408#9, 2415#9, 2422#9, 2429#9, 2436#9, 2443#9, 2450#9, 2457#9, 2464#9, 2471#9, 2478#9, 2485#9, 2492#9, 2499#9, 2506#9, 2513#9, 2520#9, 2527#9, 2534#9, 2541#9, 2548#9, 2555#9, 2562#9, 2569#9, 2576#9, 2583#9, 2590#9, 2597#9, 2604#9, 2611#9, 2618#9, 2625#9, 2632#9, 2639#9, 2646#9, 2653#9, 2660#9, 2667#9, 2674#9, 2681#9, 2688#9, 2695#9, 2702#9, 2709#9, 2716#9, 2723#9, 2730#9, 2737#9, 2744#9, 2751#9, 2758#9, 2765#9, 2772#9, 2779#9, 2786#9, 2793#9, 2800#9, 2807#9, 2814#9, 2821#9, 2828#9, 2835#9, 2842#9, 2849#9, 2856#9, 2863#9, 2870#9, 2877#9, 2884#9, 2891#9, 2898#9, 2905#9, 2912#9, 2919#9, 2926#9, 2933#9, 2940#9, 2947#9, 2954#9, 2961#9, 2968#9, 2975#9, 2982#9, 2989#9, 2996#9, 3003#9, 3010#9, 3017#9, 3024#9, 3031#9, 3038#9, 3045#9, 3052#9, 3059#9, 3066#9, 3073#9, 3080#9, 3087#9, 3094#9, 3101#9, 3108#9, 3115#9, 3122#9, 3129#9, 3136#9, 3143#9, 3150#9, 3157#9, 3164#9, 3171#9, 3178#9, 3185#9, 3192#9, 3199#9, "
     ]
    }
   ],
   "source": [
    "for i in range(2000,3201):\n",
    "    if(i%7==0 and i/5!=0):\n",
    "        print (i,9,sep='#',end=', ' )"
   ]
  },
  {
   "cell_type": "code",
   "execution_count": 20,
   "metadata": {},
   "outputs": [
    {
     "name": "stdout",
     "output_type": "stream",
     "text": [
      "<class 'dict'>\n",
      "{1: 1, 2: 4, 3: 9, 4: 16, 5: 25, 6: 36, 7: 49, 8: 64}\n"
     ]
    }
   ],
   "source": [
    "dic={}\n",
    "print(type(dic))\n",
    "for i in range(1,9):\n",
    "    dic[i]=i*i\n",
    "print(dic)\n",
    "    "
   ]
  },
  {
   "cell_type": "code",
   "execution_count": 23,
   "metadata": {},
   "outputs": [],
   "source": [
    "listc=[i+2 if(i%2==0) else i+2 for i in range(1,20) ]"
   ]
  },
  {
   "cell_type": "code",
   "execution_count": 24,
   "metadata": {},
   "outputs": [
    {
     "name": "stdout",
     "output_type": "stream",
     "text": [
      "[3, 4, 5, 6, 7, 8, 9, 10, 11, 12, 13, 14, 15, 16, 17, 18, 19, 20, 21]\n"
     ]
    }
   ],
   "source": [
    "print(listc)"
   ]
  },
  {
   "cell_type": "code",
   "execution_count": 3,
   "metadata": {},
   "outputs": [],
   "source": [
    "def age(dob):\n",
    "    dobi=int(dob)\n",
    "    ag=2021-dobi\n",
    "    return ag\n",
    "\n",
    " \n"
   ]
  },
  {
   "cell_type": "code",
   "execution_count": 4,
   "metadata": {},
   "outputs": [
    {
     "data": {
      "text/plain": [
       "21"
      ]
     },
     "execution_count": 4,
     "metadata": {},
     "output_type": "execute_result"
    }
   ],
   "source": [
    "age(2000)"
   ]
  },
  {
   "cell_type": "code",
   "execution_count": 5,
   "metadata": {},
   "outputs": [],
   "source": [
    "def add(num1,num2=1):\n",
    "    print ( num1+num2)"
   ]
  },
  {
   "cell_type": "code",
   "execution_count": null,
   "metadata": {},
   "outputs": [],
   "source": [
    "make_shirt(size,msg=\"welcome\"):\n",
    "    "
   ]
  },
  {
   "cell_type": "code",
   "execution_count": 9,
   "metadata": {},
   "outputs": [],
   "source": [
    "def build_person(f_name,l_name,age=\"\"):\n",
    "    person={\"first\":f_name,'last':l_name}\n",
    "    if age:\n",
    "        person['age']=age\n",
    "    return person\n"
   ]
  },
  {
   "cell_type": "code",
   "execution_count": 12,
   "metadata": {},
   "outputs": [],
   "source": [
    "g=build_person(\"ali\",\"nazar\")"
   ]
  },
  {
   "cell_type": "code",
   "execution_count": 13,
   "metadata": {},
   "outputs": [
    {
     "name": "stdout",
     "output_type": "stream",
     "text": [
      "{'first': 'ali', 'last': 'nazar'}\n"
     ]
    }
   ],
   "source": [
    "print(g)"
   ]
  },
  {
   "cell_type": "code",
   "execution_count": null,
   "metadata": {},
   "outputs": [],
   "source": [
    "def inp(n1,n2,n3,n4,n5):\n",
    "    nlist=[]\n",
    "    while true:\n",
    "        n1>"
   ]
  },
  {
   "cell_type": "code",
   "execution_count": 14,
   "metadata": {},
   "outputs": [],
   "source": [
    "def max_find(n1,n2,n3,n4,n5):\n",
    "    return max([int(input()) for i in range (5)])\n",
    "    \n",
    "    "
   ]
  },
  {
   "cell_type": "code",
   "execution_count": 15,
   "metadata": {},
   "outputs": [
    {
     "name": "stdout",
     "output_type": "stream",
     "text": [
      "3\n",
      "4\n",
      "56\n",
      "1\n",
      "4\n"
     ]
    },
    {
     "data": {
      "text/plain": [
       "56"
      ]
     },
     "execution_count": 15,
     "metadata": {},
     "output_type": "execute_result"
    }
   ],
   "source": [
    "max_find(2,4,5,7,3)"
   ]
  },
  {
   "cell_type": "code",
   "execution_count": 17,
   "metadata": {},
   "outputs": [],
   "source": [
    "def max2():\n",
    "    nums= input(\"\").split(\",\")\n",
    "    return max([int(i)] for i in nums)"
   ]
  },
  {
   "cell_type": "code",
   "execution_count": 18,
   "metadata": {},
   "outputs": [
    {
     "name": "stdout",
     "output_type": "stream",
     "text": [
      "2,5,6,3,1,4\n"
     ]
    },
    {
     "data": {
      "text/plain": [
       "[6]"
      ]
     },
     "execution_count": 18,
     "metadata": {},
     "output_type": "execute_result"
    }
   ],
   "source": [
    "max2()"
   ]
  },
  {
   "cell_type": "code",
   "execution_count": 2,
   "metadata": {},
   "outputs": [],
   "source": [
    "\n",
    "def newmax():\n",
    "    print(max(((input().split(\" \")))))"
   ]
  },
  {
   "cell_type": "code",
   "execution_count": 3,
   "metadata": {},
   "outputs": [
    {
     "name": "stdout",
     "output_type": "stream",
     "text": [
      "2\n",
      "2\n"
     ]
    }
   ],
   "source": [
    "newmax()"
   ]
  },
  {
   "cell_type": "code",
   "execution_count": 21,
   "metadata": {},
   "outputs": [
    {
     "name": "stdout",
     "output_type": "stream",
     "text": [
      "4 5 67 8\n",
      "8\n"
     ]
    }
   ],
   "source": [
    "newmax()"
   ]
  },
  {
   "cell_type": "code",
   "execution_count": 23,
   "metadata": {},
   "outputs": [
    {
     "name": "stdout",
     "output_type": "stream",
     "text": [
      "3 4 76 1\n",
      "76\n"
     ]
    }
   ],
   "source": [
    "print(max(input().split(\" \")))"
   ]
  },
  {
   "cell_type": "code",
   "execution_count": null,
   "metadata": {},
   "outputs": [],
   "source": [
    "\n",
    "def mak_(name,title):\n",
    "    \n",
    "    "
   ]
  }
 ],
 "metadata": {
  "kernelspec": {
   "display_name": "Python 3",
   "language": "python",
   "name": "python3"
  },
  "language_info": {
   "codemirror_mode": {
    "name": "ipython",
    "version": 3
   },
   "file_extension": ".py",
   "mimetype": "text/x-python",
   "name": "python",
   "nbconvert_exporter": "python",
   "pygments_lexer": "ipython3",
   "version": "3.7.6"
  }
 },
 "nbformat": 4,
 "nbformat_minor": 4
}
