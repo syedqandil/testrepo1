{
 "cells": [
  {
   "cell_type": "code",
   "execution_count": 2,
   "metadata": {},
   "outputs": [],
   "source": [
    "def mak_album(name,title):\n",
    "    dic1={\"name\":name,\"albumtitle\":title}\n",
    "    return dic1\n",
    "\n",
    "    "
   ]
  },
  {
   "cell_type": "code",
   "execution_count": 3,
   "metadata": {},
   "outputs": [],
   "source": [
    "a1=mak_album(\"atif\",\"music\")\n",
    "a2=mak_album(\"art2\",\"album2\")\n",
    "a3=mak_album(\"art3\",\"album3\")"
   ]
  },
  {
   "cell_type": "code",
   "execution_count": 4,
   "metadata": {},
   "outputs": [
    {
     "name": "stdout",
     "output_type": "stream",
     "text": [
      "{'name': 'atif', 'albumtitle': 'music'} {'name': 'art2', 'albumtitle': 'album2'} {'name': 'art3', 'albumtitle': 'album3'}\n"
     ]
    }
   ],
   "source": [
    "print(a1,a2,a3)"
   ]
  },
  {
   "cell_type": "code",
   "execution_count": 8,
   "metadata": {},
   "outputs": [],
   "source": [
    "def mak_album2(name,title,track=\"\"):\n",
    "    \n",
    "    dic1={\"name\":name,\"albumtitle\":title }\n",
    "    if track:\n",
    "        dic1[track]=track\n",
    "    \n",
    "    return dic1"
   ]
  },
  {
   "cell_type": "code",
   "execution_count": 9,
   "metadata": {},
   "outputs": [
    {
     "name": "stdout",
     "output_type": "stream",
     "text": [
      "{'name': 'ali', 'albumtitle': 'title'}\n"
     ]
    }
   ],
   "source": [
    "print(mak_album2(\"ali\",\"title\"))"
   ]
  },
  {
   "cell_type": "code",
   "execution_count": 10,
   "metadata": {},
   "outputs": [],
   "source": [
    "def salcal(b_sal):\n",
    "    tax=tax\n",
    "    \n",
    "    \n",
    "    g_sal=sal\n",
    "    return g_sal\n"
   ]
  },
  {
   "cell_type": "code",
   "execution_count": 11,
   "metadata": {},
   "outputs": [],
   "source": [
    "basic_sal=input()\n",
    "salcal(basic_sa"
   ]
  },
  {
   "cell_type": "code",
   "execution_count": 25,
   "metadata": {},
   "outputs": [],
   "source": [
    "def taxcal(b_sal):\n",
    "    tax_dec=0\n",
    "    if b_sal<30000:\n",
    "        tax_dec=0\n",
    "    elif b_sal>30000 and b_sal<50000:\n",
    "        tax_dec=5\n",
    "    elif b_sal>=50000 and b_sal<100000:\n",
    "        tax_dec=10\n",
    "    elif b_sal>=100000:\n",
    "        tax_dec=20\n",
    "    return b_sal*tax_dec/100\n",
    "        \n",
    "    \n",
    "    \n",
    "    \n",
    "    "
   ]
  },
  {
   "cell_type": "code",
   "execution_count": 26,
   "metadata": {},
   "outputs": [],
   "source": [
    "def salcal(b_sal):\n",
    "    tax=taxcal(b_sal)\n",
    "    \n",
    "    print(tax)\n",
    "    g_sal=b_sal-tax\n",
    "    return g_sal\n"
   ]
  },
  {
   "cell_type": "code",
   "execution_count": 27,
   "metadata": {},
   "outputs": [
    {
     "name": "stdout",
     "output_type": "stream",
     "text": [
      "7500.0\n",
      "your Gross_salary is 67500.0\n"
     ]
    }
   ],
   "source": [
    "gsal=salcal(75000)\n",
    "print(\"your Gross_salary is \"+ str(gsal))"
   ]
  },
  {
   "cell_type": "code",
   "execution_count": null,
   "metadata": {},
   "outputs": [],
   "source": []
  }
 ],
 "metadata": {
  "kernelspec": {
   "display_name": "Python 3",
   "language": "python",
   "name": "python3"
  },
  "language_info": {
   "codemirror_mode": {
    "name": "ipython",
    "version": 3
   },
   "file_extension": ".py",
   "mimetype": "text/x-python",
   "name": "python",
   "nbconvert_exporter": "python",
   "pygments_lexer": "ipython3",
   "version": "3.7.6"
  }
 },
 "nbformat": 4,
 "nbformat_minor": 4
}
